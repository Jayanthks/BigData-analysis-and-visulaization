{
 "cells": [
  {
   "cell_type": "markdown",
   "metadata": {},
   "source": [
    "# Jayanth Kadalipura Shivalingaiah 50290276\n",
    "# Anirudh Manjunath 50289832"
   ]
  },
  {
   "cell_type": "markdown",
   "metadata": {},
   "source": [
    "## Sub-Topics for Topic Tech:\n",
    "### 1) Google\n",
    "### 2) Facebook\n",
    "### 3) Amazon\n",
    "### 4) Microsoft\n",
    "### 5) Uber"
   ]
  },
  {
   "cell_type": "code",
   "execution_count": 1,
   "metadata": {},
   "outputs": [],
   "source": [
    "library(twitteR)"
   ]
  },
  {
   "cell_type": "markdown",
   "metadata": {},
   "source": [
    "twitteR is an R package which provides access to the Twitter API. Most functionality of the API is supported, with a bias towards API calls that are more useful in data analysis as opposed to daily interaction."
   ]
  },
  {
   "cell_type": "code",
   "execution_count": 2,
   "metadata": {},
   "outputs": [
    {
     "name": "stdout",
     "output_type": "stream",
     "text": [
      "[1] \"Using direct authentication\"\n"
     ]
    }
   ],
   "source": [
    "setup_twitter_oauth(\"e7VTL5WsGy5Js5jwNx3osVFbS\", \"xuPRilajS512ufjR6SYSlMmAYCmCqUEd9mMjKWoBycSuJnlTcY\",access_token=\"1097265453951602689-KiRvdXdrsTPGQq793SfQ10zXfUvmUI\", access_secret=\"qwHVtxPypsP8Mn0Skvwec6GtgeX9sF5QzcOyWOYHgCxQP\")"
   ]
  },
  {
   "cell_type": "markdown",
   "metadata": {},
   "source": [
    "This function wraps the OAuth authentication handshake functions from the httr package for a twitteR session. OAuth allows an end user's account information to be used by third-party services without exposing the user's password."
   ]
  },
  {
   "cell_type": "code",
   "execution_count": 22,
   "metadata": {},
   "outputs": [],
   "source": [
    "res <-(searchTwitter('google', n = 10000,geocode='39.875,-98.551,1500mi'))\n",
    "rip<-strip_retweets(res)\n",
    "temp_df <- twListToDF(res)\n",
    "xx = sapply(rip, function(x) x$getText())\n",
    "data <- data.frame(xx)"
   ]
  },
  {
   "cell_type": "code",
   "execution_count": 23,
   "metadata": {},
   "outputs": [],
   "source": [
    "#text<-data[['description']]\n",
    "write.table(data, file = \"D:\\\\sem2\\\\DIC\\\\google.txt\",row.names = FALSE)"
   ]
  },
  {
   "cell_type": "code",
   "execution_count": 25,
   "metadata": {},
   "outputs": [],
   "source": [
    "res <-(searchTwitter('Microsoft', n = 10000,geocode='39.875,-98.551,1500mi'))\n",
    "rip<-strip_retweets(res)\n",
    "temp_df <- twListToDF(res)\n",
    "xx = sapply(rip, function(x) x$getText())\n",
    "data <- data.frame(xx)\n",
    "write.table(data, file = \"D:\\\\sem2\\\\DIC\\\\microsoft.txt\",row.names = FALSE)"
   ]
  },
  {
   "cell_type": "code",
   "execution_count": 27,
   "metadata": {},
   "outputs": [
    {
     "name": "stdout",
     "output_type": "stream",
     "text": [
      "[1] \"Rate limited .... blocking for a minute and retrying up to 119 times ...\"\n",
      "[1] \"Rate limited .... blocking for a minute and retrying up to 118 times ...\"\n",
      "[1] \"Rate limited .... blocking for a minute and retrying up to 117 times ...\"\n",
      "[1] \"Rate limited .... blocking for a minute and retrying up to 116 times ...\"\n",
      "[1] \"Rate limited .... blocking for a minute and retrying up to 115 times ...\"\n",
      "[1] \"Rate limited .... blocking for a minute and retrying up to 114 times ...\"\n",
      "[1] \"Rate limited .... blocking for a minute and retrying up to 113 times ...\"\n",
      "[1] \"Rate limited .... blocking for a minute and retrying up to 112 times ...\"\n",
      "[1] \"Rate limited .... blocking for a minute and retrying up to 111 times ...\"\n"
     ]
    }
   ],
   "source": [
    "res <-(searchTwitter('Amazon', n = 10000,geocode='39.875,-98.551,1500mi'))\n",
    "rip<-strip_retweets(res)\n",
    "#temp_df <- twListToDF(res)\n",
    "xx = sapply(rip, function(x) x$getText())\n",
    "data <- data.frame(xx)\n",
    "write.table(data, file = \"D:\\\\sem2\\\\DIC\\\\amazon.txt\",row.names = FALSE)"
   ]
  },
  {
   "cell_type": "code",
   "execution_count": 28,
   "metadata": {},
   "outputs": [
    {
     "name": "stdout",
     "output_type": "stream",
     "text": [
      "[1] \"Rate limited .... blocking for a minute and retrying up to 119 times ...\"\n",
      "[1] \"Rate limited .... blocking for a minute and retrying up to 118 times ...\"\n",
      "[1] \"Rate limited .... blocking for a minute and retrying up to 117 times ...\"\n",
      "[1] \"Rate limited .... blocking for a minute and retrying up to 116 times ...\"\n",
      "[1] \"Rate limited .... blocking for a minute and retrying up to 115 times ...\"\n",
      "[1] \"Rate limited .... blocking for a minute and retrying up to 114 times ...\"\n",
      "[1] \"Rate limited .... blocking for a minute and retrying up to 113 times ...\"\n",
      "[1] \"Rate limited .... blocking for a minute and retrying up to 112 times ...\"\n",
      "[1] \"Rate limited .... blocking for a minute and retrying up to 111 times ...\"\n",
      "[1] \"Rate limited .... blocking for a minute and retrying up to 110 times ...\"\n",
      "[1] \"Rate limited .... blocking for a minute and retrying up to 109 times ...\"\n",
      "[1] \"Rate limited .... blocking for a minute and retrying up to 108 times ...\"\n",
      "[1] \"Rate limited .... blocking for a minute and retrying up to 107 times ...\"\n",
      "[1] \"Rate limited .... blocking for a minute and retrying up to 106 times ...\"\n"
     ]
    }
   ],
   "source": [
    "res <-(searchTwitter('Uber', n = 10000,geocode='39.875,-98.551,1500mi'))\n",
    "rip<-strip_retweets(res)\n",
    "temp_df <- twListToDF(res)\n",
    "xx = sapply(rip, function(x) x$getText())\n",
    "data <- data.frame(xx)\n",
    "write.table(data, file = \"D:\\\\sem2\\\\DIC\\\\Uber.txt\",row.names = FALSE)"
   ]
  },
  {
   "cell_type": "code",
   "execution_count": 29,
   "metadata": {},
   "outputs": [],
   "source": [
    "res <-(searchTwitter('facebook', n = 10000,geocode='39.875,-98.551,1500mi'))\n",
    "rip<-strip_retweets(res)\n",
    "temp_df <- twListToDF(res)\n",
    "xx = sapply(rip, function(x) x$getText())\n",
    "data <- data.frame(xx)\n",
    "write.table(data, file = \"D:\\\\sem2\\\\DIC\\\\facebook.txt\",row.names = FALSE)"
   ]
  },
  {
   "cell_type": "code",
   "execution_count": 4,
   "metadata": {},
   "outputs": [
    {
     "name": "stdout",
     "output_type": "stream",
     "text": [
      "[1] \"Rate limited .... blocking for a minute and retrying up to 119 times ...\"\n",
      "[1] \"Rate limited .... blocking for a minute and retrying up to 118 times ...\"\n",
      "[1] \"Rate limited .... blocking for a minute and retrying up to 117 times ...\"\n",
      "[1] \"Rate limited .... blocking for a minute and retrying up to 116 times ...\"\n",
      "[1] \"Rate limited .... blocking for a minute and retrying up to 115 times ...\"\n",
      "[1] \"Rate limited .... blocking for a minute and retrying up to 114 times ...\"\n",
      "[1] \"Rate limited .... blocking for a minute and retrying up to 113 times ...\"\n",
      "[1] \"Rate limited .... blocking for a minute and retrying up to 112 times ...\"\n",
      "[1] \"Rate limited .... blocking for a minute and retrying up to 111 times ...\"\n",
      "[1] \"Rate limited .... blocking for a minute and retrying up to 110 times ...\"\n",
      "[1] \"Rate limited .... blocking for a minute and retrying up to 109 times ...\"\n",
      "[1] \"Rate limited .... blocking for a minute and retrying up to 108 times ...\"\n",
      "[1] \"Rate limited .... blocking for a minute and retrying up to 107 times ...\"\n",
      "[1] \"Rate limited .... blocking for a minute and retrying up to 106 times ...\"\n"
     ]
    }
   ],
   "source": [
    "res <-(searchTwitter('Tech', n = 20000,geocode='39.875,-98.551,1500mi'))\n",
    "rip<-strip_retweets(res)\n",
    "temp_df <- twListToDF(res)\n",
    "xx = sapply(rip, function(x) x$getText())\n",
    "data <- data.frame(xx)\n",
    "write.table(data, file = \"D:\\\\sem2\\\\DIC\\\\TECH_tw.txt\",row.names = FALSE)"
   ]
  }
 ],
 "metadata": {
  "kernelspec": {
   "display_name": "R",
   "language": "R",
   "name": "ir"
  },
  "language_info": {
   "codemirror_mode": "r",
   "file_extension": ".r",
   "mimetype": "text/x-r-source",
   "name": "R",
   "pygments_lexer": "r",
   "version": "3.5.2"
  }
 },
 "nbformat": 4,
 "nbformat_minor": 2
}
