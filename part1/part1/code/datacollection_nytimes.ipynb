{
 "cells": [
  {
   "cell_type": "markdown",
   "metadata": {},
   "source": [
    "# Jayanth Kadalipura Shivalingaiah 50290276\n",
    "# Anirudh Manjunath 50289832"
   ]
  },
  {
   "cell_type": "markdown",
   "metadata": {},
   "source": [
    "## Sub-Topics for Topic Tech:\n",
    "### 1) Google\n",
    "### 2) Facebook\n",
    "### 3) Amazon\n",
    "### 4) Microsoft\n",
    "### 5) Uber"
   ]
  },
  {
   "cell_type": "markdown",
   "metadata": {},
   "source": [
    "### NYTimes Data collection"
   ]
  },
  {
   "cell_type": "code",
   "execution_count": 55,
   "metadata": {},
   "outputs": [],
   "source": [
    "from nytimesarticle import articleAPI\n",
    "import csv\n",
    "import num2words\n",
    "import time\n",
    "import requegsts\n",
    "from bs4 import BeautifulSoup\n",
    "import urllib.request\n",
    "import tweepy\n",
    "nytimes_api = articleAPI('MVnfz8GaNAQ6uTHPURl9lv10UJ2QZxx6')\n",
    "tw_consumer_key = \"BTi74Q6cttqpmHLJtfMnFeFsf\"\n",
    "tw_consumer_secret = \"V8JcJjHuSGNrrwPLQnoCvoxbl5n5lDcoi1jsdfI6aQiqn9pFpe\"\n",
    "tw_access_token = \"2479911300-vwsUO1JgOfGCqxw1Bhlwz3FID8hBnpY44gqMxcv\"\n",
    "tw_access_token_secret = \"7yoyIsdW3rzzzPPM8FER0SOOfaw07ajG0D3LRKLH9wree\""
   ]
  },
  {
   "cell_type": "code",
   "execution_count": 66,
   "metadata": {},
   "outputs": [],
   "source": [
    "topics = [\"Facebook\",\"Google\",\"Amazon\",\"Microsoft\",\"Uber\"]"
   ]
  },
  {
   "cell_type": "code",
   "execution_count": 63,
   "metadata": {},
   "outputs": [],
   "source": [
    "def nytimesdata(query):\n",
    "    textcontent=[]\n",
    "    articleli = []\n",
    "    c = 0\n",
    "    print(query)\n",
    "    for i in range(0,100):\n",
    "        page=str(i)\n",
    "        art = {}\n",
    "        r = requests.get(\"http://api.nytimes.com/svc/search/v2/articlesearch.json?begin_date=20190101&q=\"+query+\"&page=\"+page+\"&api-key=MVnfz8GaNAQ6uTHPURl9lv10UJ2QZxx6\")\n",
    "        data = r.json()\n",
    "        time.sleep(6)\n",
    "        weburl=[]\n",
    "        for i in data['response']['docs']:\n",
    "            weburl.append(i['web_url'])\n",
    "        for url in weburl:\n",
    "            c=c+1\n",
    "            try:                \n",
    "                page_response = requests.get(url)\n",
    "            except:\n",
    "                print(\"URL not good\")\n",
    "                \n",
    "            soup_all = BeautifulSoup(page_response.content, 'html.parser')\n",
    "            for x in soup_all.find_all(\"p\"):\n",
    "                textcontent.append(x.get_text())\n",
    "    with open(\"//home//cse587//Desktop//nytimes//\"+query+\".txt\",\"w+\") as out:\n",
    "        for i in range(0, len(textcontent)):\n",
    "            try:\n",
    "                out.write(str(textcontent[i]))\n",
    "            except Exception:\n",
    "                print(\"NA\")\n",
    "    print(c)\n",
    "    return textcontent"
   ]
  },
  {
   "cell_type": "code",
   "execution_count": 67,
   "metadata": {},
   "outputs": [
    {
     "name": "stdout",
     "output_type": "stream",
     "text": [
      "google\n",
      "793\n",
      "Microsoft\n",
      "180\n"
     ]
    }
   ],
   "source": [
    "nytimes_data=[]\n",
    "article = []\n",
    "for i in topics:\n",
    "    #print(i)\n",
    "    nytimes_in=  nytimesdata(i)\n",
    "    nytimes_data = nytimes_data + nytimes_in\n",
    "    #article = articlex+article\n",
    "with open(\"//home//cse587//Desktop//nytimes//nytimesdata.txt\",\"w\") as out:\n",
    "            for i in range(0, len(nytimes_data)):\n",
    "                try:\n",
    "                    out.write(str(nytimes_data[i]))\n",
    "                except Exception:\n",
    "                    print(\"NA\")"
   ]
  },
  {
   "cell_type": "code",
   "execution_count": 13,
   "metadata": {},
   "outputs": [
    {
     "data": {
      "text/plain": [
       "1435"
      ]
     },
     "execution_count": 13,
     "metadata": {},
     "output_type": "execute_result"
    }
   ],
   "source": [
    "len(nytimes_data)"
   ]
  }
 ],
 "metadata": {
  "kernelspec": {
   "display_name": "Python 3",
   "language": "python",
   "name": "python3"
  },
  "language_info": {
   "codemirror_mode": {
    "name": "ipython",
    "version": 3
   },
   "file_extension": ".py",
   "mimetype": "text/x-python",
   "name": "python",
   "nbconvert_exporter": "python",
   "pygments_lexer": "ipython3",
   "version": "3.7.1"
  }
 },
 "nbformat": 4,
 "nbformat_minor": 2
}
